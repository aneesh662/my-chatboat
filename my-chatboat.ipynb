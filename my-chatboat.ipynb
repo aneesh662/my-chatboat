{
 "cells": [
  {
   "cell_type": "code",
   "execution_count": 2,
   "id": "c27d146e-2868-4f62-b090-913d3ff6ea88",
   "metadata": {},
   "outputs": [
    {
     "name": "stderr",
     "output_type": "stream",
     "text": [
      "2024-09-27 13:40:57.028 Thread 'MainThread': missing ScriptRunContext! This warning can be ignored when running in bare mode.\n",
      "2024-09-27 13:40:57.029 Thread 'MainThread': missing ScriptRunContext! This warning can be ignored when running in bare mode.\n",
      "2024-09-27 13:40:57.031 Thread 'MainThread': missing ScriptRunContext! This warning can be ignored when running in bare mode.\n",
      "2024-09-27 13:40:57.032 Thread 'MainThread': missing ScriptRunContext! This warning can be ignored when running in bare mode.\n",
      "2024-09-27 13:40:57.033 Thread 'MainThread': missing ScriptRunContext! This warning can be ignored when running in bare mode.\n",
      "2024-09-27 13:40:57.034 Thread 'MainThread': missing ScriptRunContext! This warning can be ignored when running in bare mode.\n",
      "2024-09-27 13:40:57.036 Thread 'MainThread': missing ScriptRunContext! This warning can be ignored when running in bare mode.\n",
      "2024-09-27 13:40:57.037 Thread 'MainThread': missing ScriptRunContext! This warning can be ignored when running in bare mode.\n"
     ]
    },
    {
     "data": {
      "text/plain": [
       "DeltaGenerator()"
      ]
     },
     "execution_count": 2,
     "metadata": {},
     "output_type": "execute_result"
    }
   ],
   "source": [
    "import streamlit as st\n",
    "\n",
    "# Set the title of the app\n",
    "st.title(\"Welcome to Our Mizu\")\n",
    "\n",
    "# Add a description\n",
    "st.write(\"Feel free to chat with us using our chatbot!\")\n",
    "\n",
    "# Embed the Dialogflow chatbot using an iframe\n",
    "iframe_code = \"\"\"\n",
    "<iframe \n",
    "    width=\"350\" \n",
    "    height=\"430\" \n",
    "    allow=\"microphone;\" \n",
    "    src=\"https://console.dialogflow.com/api-client/demo/embedded/e4b58c8e-5f3f-448a-b8ab-fa1afd3eb768\">\n",
    "</iframe>\n",
    "\"\"\"\n",
    "\n",
    "# Use Streamlit's components to render the iframe\n",
    "st.components.v1.html(iframe_code, height=450, scrolling=True)\n",
    "\n",
    "\n"
   ]
  },
  {
   "cell_type": "code",
   "execution_count": null,
   "id": "eb6292f1-1ecb-490f-8fcb-ec80037a8d34",
   "metadata": {},
   "outputs": [],
   "source": []
  }
 ],
 "metadata": {
  "kernelspec": {
   "display_name": "Python 3 (ipykernel)",
   "language": "python",
   "name": "python3"
  },
  "language_info": {
   "codemirror_mode": {
    "name": "ipython",
    "version": 3
   },
   "file_extension": ".py",
   "mimetype": "text/x-python",
   "name": "python",
   "nbconvert_exporter": "python",
   "pygments_lexer": "ipython3",
   "version": "3.12.0"
  }
 },
 "nbformat": 4,
 "nbformat_minor": 5
}
